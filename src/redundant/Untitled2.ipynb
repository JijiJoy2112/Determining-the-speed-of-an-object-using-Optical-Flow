{
 "cells": [
  {
   "cell_type": "code",
   "execution_count": 4,
   "id": "f8e79f04",
   "metadata": {},
   "outputs": [
    {
     "name": "stdout",
     "output_type": "stream",
     "text": [
      "Video processing complete.\n"
     ]
    },
    {
     "data": {
      "text/html": [
       "<video src=\"output_video.webm\" controls  >\n",
       "      Your browser does not support the <code>video</code> element.\n",
       "    </video>"
      ],
      "text/plain": [
       "<IPython.core.display.Video object>"
      ]
     },
     "execution_count": 4,
     "metadata": {},
     "output_type": "execute_result"
    }
   ],
   "source": [
    "import cv2\n",
    "import numpy as np\n",
    "\n",
    "# Parameters for Lucas-Kanade optical flow\n",
    "lk_params = dict(winSize=(150, 150),\n",
    "                 maxLevel=2,\n",
    "                 criteria=(cv2.TERM_CRITERIA_EPS | cv2.TERM_CRITERIA_COUNT, 10, 0.03))\n",
    "\n",
    "# Function to calculate speed in km/hr\n",
    "def calculate_speed(prev_pts, curr_pts, fps, meters_per_pixel):\n",
    "    # Calculate the displacement (difference in position)\n",
    "    displacement = np.linalg.norm(curr_pts - prev_pts, axis=1)\n",
    "    # Calculate speed (distance per frame) and convert to km/hr\n",
    "    speed = np.mean(displacement) * fps * meters_per_pixel * 3.6\n",
    "    return speed\n",
    "\n",
    "# Path to the video file\n",
    "video_path = \"C:/Users/gokul/Desktop/New folder (2)/car passing by.mp4\"\n",
    "\n",
    "# Initialize video capture\n",
    "cap = cv2.VideoCapture(video_path)\n",
    "\n",
    "if not cap.isOpened():\n",
    "    print(\"Error: Could not open video capture.\")\n",
    "    exit()\n",
    "\n",
    "# Take the first frame and find features in it\n",
    "ret, old_frame = cap.read()\n",
    "if not ret:\n",
    "    print(\"Error: Failed to capture the first frame.\")\n",
    "    exit()\n",
    "\n",
    "old_gray = cv2.cvtColor(old_frame, cv2.COLOR_BGR2GRAY)\n",
    "prev_pts = cv2.goodFeaturesToTrack(old_gray, mask=None, maxCorners=100, qualityLevel=0.3, minDistance=7, blockSize=7)\n",
    "\n",
    "fps = cap.get(cv2.CAP_PROP_FPS)  # Frames per second\n",
    "if fps == 0:\n",
    "    fps = 30  # Default to 30 FPS if unable to get FPS from video capture\n",
    "\n",
    "# Meter per pixel scale factor (adjust based on video resolution and real-world scale)\n",
    "# You may need to manually measure the scale of objects in the video\n",
    "meters_per_pixel = 0.1  # For example, assuming 1 pixel represents 0.1 meters (10 cm)\n",
    "\n",
    "# Initialize video writer for output video\n",
    "output_video_path = \"output_video.webm\"\n",
    "fourcc = cv2.VideoWriter_fourcc(*'VP80')\n",
    "width = int(cap.get(cv2.CAP_PROP_FRAME_WIDTH))\n",
    "height = int(cap.get(cv2.CAP_PROP_FRAME_HEIGHT))\n",
    "out = cv2.VideoWriter(output_video_path, fourcc, fps, (width, height))\n",
    "\n",
    "while cap.isOpened():\n",
    "    ret, frame = cap.read()\n",
    "    if not ret:\n",
    "        break\n",
    "\n",
    "    frame_gray = cv2.cvtColor(frame, cv2.COLOR_BGR2GRAY)\n",
    "\n",
    "    # Calculate optical flow\n",
    "    curr_pts, st, err = cv2.calcOpticalFlowPyrLK(old_gray, frame_gray, prev_pts, None, **lk_params)\n",
    "    \n",
    "    if curr_pts is None:\n",
    "        # If optical flow calculation fails, skip this frame\n",
    "        prev_pts = cv2.goodFeaturesToTrack(old_gray, mask=None, maxCorners=100, qualityLevel=0.3, minDistance=7, blockSize=7)\n",
    "        old_gray = frame_gray.copy()\n",
    "        continue\n",
    "\n",
    "    # Select good points\n",
    "    good_new = curr_pts[st == 1]\n",
    "    good_old = prev_pts[st == 1]\n",
    "\n",
    "    # Calculate speed\n",
    "    average_speed = calculate_speed(good_old, good_new, fps, meters_per_pixel)\n",
    "    average_speed = average_speed*0.6\n",
    "    # Overlay speed on the frame with increased font size\n",
    "    speed_text = f\"Average speed: {average_speed:.2f} km/hr\"\n",
    "    cv2.putText(frame, speed_text, (15, 30), cv2.FONT_HERSHEY_SIMPLEX, 1, (255, 0, 0), 2, cv2.LINE_AA)\n",
    "\n",
    "    # Draw the tracks\n",
    "    for i, (new, old) in enumerate(zip(good_new, good_old)):\n",
    "        a, b = new.ravel().astype(int)\n",
    "        c, d = old.ravel().astype(int)\n",
    "        frame = cv2.line(frame, (a, b), (c, d), (0, 255, 0), 2)\n",
    "        frame = cv2.circle(frame, (a, b), 5, (0, 0, 255), -1)\n",
    "\n",
    "    # Write frame to output video\n",
    "    out.write(frame)\n",
    "\n",
    "    # Now update the previous frame and previous points\n",
    "    old_gray = frame_gray.copy()\n",
    "    prev_pts = good_new.reshape(-1, 1, 2)\n",
    "\n",
    "cap.release()\n",
    "out.release()\n",
    "print(\"Video processing complete.\")\n",
    "\n",
    "# Display the output video using IPython's Video widget\n",
    "from IPython.display import Video\n",
    "Video(output_video_path)"
   ]
  },
  {
   "cell_type": "code",
   "execution_count": null,
   "id": "ac280f36",
   "metadata": {},
   "outputs": [],
   "source": []
  }
 ],
 "metadata": {
  "kernelspec": {
   "display_name": "Python 3 (ipykernel)",
   "language": "python",
   "name": "python3"
  },
  "language_info": {
   "codemirror_mode": {
    "name": "ipython",
    "version": 3
   },
   "file_extension": ".py",
   "mimetype": "text/x-python",
   "name": "python",
   "nbconvert_exporter": "python",
   "pygments_lexer": "ipython3",
   "version": "3.9.16"
  }
 },
 "nbformat": 4,
 "nbformat_minor": 5
}
